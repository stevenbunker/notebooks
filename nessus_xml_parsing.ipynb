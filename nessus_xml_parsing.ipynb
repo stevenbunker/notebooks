{
 "cells": [
  {
   "cell_type": "markdown",
   "id": "8b75535b",
   "metadata": {},
   "source": [
    "# Parsing Infrastrucutre Vulnerability Scans"
   ]
  },
  {
   "cell_type": "code",
   "execution_count": 14,
   "id": "13f66af7",
   "metadata": {},
   "outputs": [],
   "source": [
    "# Import Libraries\n",
    "import mariadb as db\n",
    "import xml.etree.ElementTree as et\n",
    "import requests\n",
    "import sys\n",
    "##from os import getcwd\n",
    "##import io"
   ]
  },
  {
   "cell_type": "code",
   "execution_count": 15,
   "id": "6d9da7ec",
   "metadata": {},
   "outputs": [],
   "source": [
    "url = \"https://raw.githubusercontent.com/DefectDojo/sample-scan-files/master/nessus/nessus_v_unknown.nessus\"\n",
    "\n",
    "download = requests.get(url).text\n",
    "\n",
    "tree = et.fromstring(download)"
   ]
  },
  {
   "cell_type": "code",
   "execution_count": 122,
   "id": "299fd8e7",
   "metadata": {},
   "outputs": [
    {
     "name": "stdout",
     "output_type": "stream",
     "text": [
      "[('10.31.112.29', 'None', 'tcp 0', '19506', 'Nessus Scan Information'), ('10.31.112.29', 'None', 'tcp 0', '10919', 'Open Port Re-check'), ('10.31.112.29', 'Medium', 'tcp 3389', '58453', \"Terminal Services Doesn't Use Network Level Authentication (NLA)\"), ('10.31.112.29', 'None', 'tcp 0', '54615', 'Device Type'), ('10.31.112.29', 'None', 'tcp 0', '45590', 'Common Platform Enumeration (CPE)')]\n"
     ]
    }
   ],
   "source": [
    "data = []\n",
    "for host in tree.findall('Report/ReportHost'):\n",
    "    ipaddr = host.find(\"HostProperties/tag/[@name='host-ip']\").text\n",
    "\n",
    "    for item in host.findall('ReportItem'):\n",
    "        risk_factor = item.find('risk_factor').text\n",
    "        pluginID = item.get('pluginID')\n",
    "        pluginName = item.get('pluginName')\n",
    "        port = item.get('port')\n",
    "        protocol = item.get('protocol')  \n",
    "        data.append(\n",
    "          (ipaddr,\n",
    "          risk_factor,\n",
    "          protocol+\" \"+port,\n",
    "          pluginID,\n",
    "          pluginName)\n",
    "        )\n",
    "print(data[0:5])"
   ]
  },
  {
   "cell_type": "code",
   "execution_count": 120,
   "id": "0480ccb9",
   "metadata": {},
   "outputs": [],
   "source": [
    "try:\n",
    "    conn = db.connect(\n",
    "        user=\"databunker\",\n",
    "        password=\"checkoutmystrongpassword\",\n",
    "        host=\"localhost\",\n",
    "        port=3306,\n",
    "        database =\"riskrptdb\"\n",
    "    )\n",
    "except db.Error as e:\n",
    "    print(f\"Error connecting to MariaDB Platform: {e}\")\n",
    "    sys.exit(1)\n",
    "    \n",
    "cur = conn.cursor()"
   ]
  },
  {
   "cell_type": "code",
   "execution_count": 123,
   "id": "db79f7d5",
   "metadata": {},
   "outputs": [],
   "source": [
    "table_name = \"nessus_sample\"\n",
    "params = (table_name,)\n",
    "columns = \"\"\"\n",
    "    ip%s,\n",
    "    risk%s,\n",
    "    port%s,\n",
    "    pluginID%s,\n",
    "    pluginName%s\n",
    "    \"\"\"\n",
    "drop = (\"DROP TABLE IF EXISTS %s\" %params)\n",
    "create = (\"CREATE TABLE %s\" %params)\n",
    "insert = (\"INSERT INTO %s \"%params) + \"(ip, risk, port, pluginID, pluginName) VALUES (%s, %s, %s, %s, %s)\"\n",
    "\n",
    "with conn.cursor() as cursor:\n",
    "    cursor.execute(drop)\n",
    "    cursor.execute(create + \"(\" + columns % (' VARCHAR(50)',' VARCHAR(24)',' VARCHAR(50)',' VARCHAR(15)',' VARCHAR(256)',)+\",rowID int PRIMARY KEY AUTO_INCREMENT)\")\n",
    "    cursor.executemany(insert, data)\n",
    "conn.commit()"
   ]
  },
  {
   "cell_type": "code",
   "execution_count": null,
   "id": "7484e058",
   "metadata": {},
   "outputs": [],
   "source": []
  }
 ],
 "metadata": {
  "kernelspec": {
   "display_name": "Python 3 (ipykernel)",
   "language": "python",
   "name": "python3"
  },
  "language_info": {
   "codemirror_mode": {
    "name": "ipython",
    "version": 3
   },
   "file_extension": ".py",
   "mimetype": "text/x-python",
   "name": "python",
   "nbconvert_exporter": "python",
   "pygments_lexer": "ipython3",
   "version": "3.10.7"
  }
 },
 "nbformat": 4,
 "nbformat_minor": 5
}
